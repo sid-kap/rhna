{
 "cells": [
  {
   "cell_type": "code",
   "execution_count": 1,
   "metadata": {},
   "outputs": [],
   "source": [
    "import pandas as pd"
   ]
  },
  {
   "cell_type": "markdown",
   "metadata": {},
   "source": [
    "# Load data"
   ]
  },
  {
   "cell_type": "code",
   "execution_count": 41,
   "metadata": {},
   "outputs": [
    {
     "name": "stderr",
     "output_type": "stream",
     "text": [
      "/Users/sidharthkapur/.local/share/virtualenvs/sidharthkapur-74SaHedF/lib/python3.8/site-packages/IPython/core/interactiveshell.py:3062: DtypeWarning: Columns (28,29,37) have mixed types.Specify dtype option on import or set low_memory=False.\n",
      "  has_raised = await self.run_ast_nodes(code_ast.body, cell_name,\n"
     ]
    }
   ],
   "source": [
    "all_jobs_df = pd.read_csv(\n",
    "    'https://lehd.ces.census.gov/data/lodes/LODES7/ca/wac/ca_wac_S000_JT00_2017.csv.gz',\n",
    "    dtype={'w_geocode': str},\n",
    ")\n",
    "all_workers_df = pd.read_csv(\n",
    "    'https://lehd.ces.census.gov/data/lodes/LODES7/ca/rac/ca_rac_S000_JT00_2017.csv.gz',\n",
    "    dtype={'h_geocode': str},\n",
    ")\n",
    "cali_crosswalk_df = pd.read_csv(\n",
    "    'https://lehd.ces.census.gov/data/lodes/LODES7/ca/ca_xwalk.csv.gz',\n",
    "    dtype={'tabblk2010': str},\n",
    ")"
   ]
  },
  {
   "cell_type": "code",
   "execution_count": 3,
   "metadata": {},
   "outputs": [],
   "source": [
    "housing_df = pd.read_excel(\n",
    "    'http://www.dof.ca.gov/Forecasting/Demographics/Estimates/E-5/documents/E-5_2019_Internet%20Version.xlsx',\n",
    "    sheet_name='E5CityCounty2019', header=3, skipfooter=7, usecols=range(13)\n",
    ")\n",
    "housing_df['County / City'] = housing_df['County / City'].str.strip()\n",
    "# housing_df = housing_df[\n",
    "#     (housing_df['County / City'] != 'County Total')\n",
    "#     & (housing_df['County / City'] != 'Incorporated')\n",
    "#     & (housing_df['County / City'] != 'Balance Of County') # todo, we could extract the county for this row if we wanted\n",
    "#     & housing_df['Total'].notnull()\n",
    "# ].copy()\n",
    "# housing_df.rename(columns={'County / City': 'City'}, inplace=True)"
   ]
  },
  {
   "cell_type": "code",
   "execution_count": 4,
   "metadata": {},
   "outputs": [],
   "source": [
    "county_rows_raw = housing_df[\n",
    "    (\n",
    "        housing_df['County / City'].str.contains('County').fillna(False)\n",
    "        & (housing_df['County / City'] != 'Balance Of County')\n",
    "    )\n",
    "    | (housing_df['County / City'] == 'San Francisco')\n",
    "]\n",
    "rows_iter = county_rows_raw.iterrows()\n",
    "county_rows = []\n",
    "while True:\n",
    "    try:\n",
    "        row_1 = next(rows_iter)[1]\n",
    "    except StopIteration:\n",
    "        break\n",
    "    \n",
    "    row_2 = next(rows_iter)[1]\n",
    "    assert row_2['County / City'] in ['County Total', 'San Francisco']\n",
    "    row_1_values = row_1.drop(['County / City'])\n",
    "    assert (row_1_values.isnull() | (row_1_values == ' ')).all()\n",
    "    fixed_row = row_2.copy()\n",
    "    fixed_row['County / City'] = row_1['County / City']\n",
    "    county_rows.append(fixed_row)\n",
    "counties_df = pd.DataFrame(county_rows)"
   ]
  },
  {
   "cell_type": "code",
   "execution_count": 60,
   "metadata": {},
   "outputs": [],
   "source": [
    "jobs_by_block_df = all_jobs_df[['w_geocode', 'C000']].rename(columns={'C000': 'Jobs'}).merge(\n",
    "    all_workers_df[['h_geocode', 'C000']].rename(columns={'C000': 'Workers'}),\n",
    "    left_on='w_geocode',\n",
    "    right_on='h_geocode',\n",
    "    how='outer'\n",
    ")\n",
    "\n",
    "# We did an outer join, so some rows will have one or the other as null\n",
    "jobs_by_block_df['geocode'] = jobs_by_block_df['w_geocode'].fillna(jobs_by_block_df['h_geocode'])\n",
    "\n",
    "jobs_by_block_df = jobs_by_block_df.merge(\n",
    "    cali_crosswalk_df[['tabblk2010', 'ctyname', 'trctname', 'cbsaname', 'stplcname']],\n",
    "    left_on='w_geocode',\n",
    "    right_on='tabblk2010',\n",
    "    how='left'\n",
    ")"
   ]
  },
  {
   "cell_type": "markdown",
   "metadata": {},
   "source": [
    "# Look at jobs and housing data"
   ]
  },
  {
   "cell_type": "code",
   "execution_count": 87,
   "metadata": {},
   "outputs": [
    {
     "data": {
      "text/plain": [
       "cbsaname\n",
       "Los Angeles-Long Beach-Anaheim, CA         6,249,699\n",
       "San Francisco-Oakland-Hayward, CA          2,400,290\n",
       "Riverside-San Bernardino-Ontario, CA       1,439,654\n",
       "San Diego-Carlsbad, CA                     1,403,191\n",
       "San Jose-Sunnyvale-Santa Clara, CA         1,077,279\n",
       "Sacramento--Roseville--Arden-Arcade, CA      951,760\n",
       "Fresno, CA                                   370,040\n",
       "Oxnard-Thousand Oaks-Ventura, CA             310,992\n",
       "Bakersfield, CA                              284,739\n",
       "Stockton-Lodi, CA                            245,891\n",
       "Name: Jobs, dtype: object"
      ]
     },
     "execution_count": 87,
     "metadata": {},
     "output_type": "execute_result"
    }
   ],
   "source": [
    "jobs_by_block_df.groupby('cbsaname')['Jobs'].sum().sort_values(ascending=False).apply('{:,.0f}'.format)[:10]"
   ]
  },
  {
   "cell_type": "code",
   "execution_count": 62,
   "metadata": {},
   "outputs": [],
   "source": [
    "bay_area_counties = ['Alameda', 'Contra Costa', 'Marin', 'San Francisco', 'San Mateo', 'Santa Clara', 'Napa', 'Sonoma', 'Solano']\n",
    "bay_area_jobs = jobs_by_block_df[\n",
    "    jobs_by_block_df['ctyname'].isin([c + ' County, CA' for c in bay_area_counties])\n",
    "].groupby('ctyname')['Jobs'].sum().sort_values(ascending=False)"
   ]
  },
  {
   "cell_type": "code",
   "execution_count": 88,
   "metadata": {},
   "outputs": [
    {
     "data": {
      "text/plain": [
       "ctyname\n",
       "Santa Clara County, CA      1,060,260\n",
       "Alameda County, CA            788,852\n",
       "San Francisco County, CA      723,907\n",
       "San Mateo County, CA          399,024\n",
       "Contra Costa County, CA       375,252\n",
       "Sonoma County, CA             201,244\n",
       "Solano County, CA             148,424\n",
       "Marin County, CA              113,255\n",
       "Napa County, CA                74,858\n",
       "Name: Jobs, dtype: object"
      ]
     },
     "execution_count": 88,
     "metadata": {},
     "output_type": "execute_result"
    }
   ],
   "source": [
    "bay_area_jobs.apply('{:,.0f}'.format)"
   ]
  },
  {
   "cell_type": "code",
   "execution_count": 89,
   "metadata": {},
   "outputs": [
    {
     "data": {
      "text/plain": [
       "3885076.0"
      ]
     },
     "execution_count": 89,
     "metadata": {},
     "output_type": "execute_result"
    }
   ],
   "source": [
    "bay_area_jobs.sum()"
   ]
  },
  {
   "cell_type": "code",
   "execution_count": 90,
   "metadata": {},
   "outputs": [
    {
     "data": {
      "text/plain": [
       "3477"
      ]
     },
     "execution_count": 90,
     "metadata": {},
     "output_type": "execute_result"
    }
   ],
   "source": [
    "2400 + 1077"
   ]
  },
  {
   "cell_type": "code",
   "execution_count": 91,
   "metadata": {},
   "outputs": [
    {
     "data": {
      "text/plain": [
       "4005232.989690722"
      ]
     },
     "execution_count": 91,
     "metadata": {},
     "output_type": "execute_result"
    }
   ],
   "source": [
    "3885076.0 / 0.97"
   ]
  },
  {
   "cell_type": "code",
   "execution_count": 67,
   "metadata": {},
   "outputs": [],
   "source": [
    "bay_area_workers = jobs_by_block_df[\n",
    "    jobs_by_block_df['ctyname'].isin([c + ' County, CA' for c in bay_area_counties])\n",
    "].groupby('ctyname')['Workers'].sum().sort_values(ascending=False)"
   ]
  },
  {
   "cell_type": "code",
   "execution_count": 68,
   "metadata": {},
   "outputs": [
    {
     "data": {
      "text/plain": [
       "ctyname\n",
       "Santa Clara County, CA      767,721\n",
       "Alameda County, CA          644,906\n",
       "San Francisco County, CA    449,056\n",
       "Contra Costa County, CA     377,530\n",
       "San Mateo County, CA        308,690\n",
       "Sonoma County, CA           174,861\n",
       "Solano County, CA           136,485\n",
       "Marin County, CA             91,105\n",
       "Napa County, CA              51,671\n",
       "Name: Workers, dtype: object"
      ]
     },
     "execution_count": 68,
     "metadata": {},
     "output_type": "execute_result"
    }
   ],
   "source": [
    "bay_area_workers.apply('{:,.0f}'.format)"
   ]
  },
  {
   "cell_type": "code",
   "execution_count": 69,
   "metadata": {},
   "outputs": [
    {
     "data": {
      "text/plain": [
       "3002025.0"
      ]
     },
     "execution_count": 69,
     "metadata": {},
     "output_type": "execute_result"
    }
   ],
   "source": [
    "bay_area_workers.sum()"
   ]
  },
  {
   "cell_type": "code",
   "execution_count": 70,
   "metadata": {},
   "outputs": [],
   "source": [
    "bay_area_housing_df = counties_df[\n",
    "    counties_df['County / City'].isin([c + ' County' for c in bay_area_counties])\n",
    "]"
   ]
  },
  {
   "cell_type": "code",
   "execution_count": 71,
   "metadata": {},
   "outputs": [
    {
     "data": {
      "text/html": [
       "<div>\n",
       "<style scoped>\n",
       "    .dataframe tbody tr th:only-of-type {\n",
       "        vertical-align: middle;\n",
       "    }\n",
       "\n",
       "    .dataframe tbody tr th {\n",
       "        vertical-align: top;\n",
       "    }\n",
       "\n",
       "    .dataframe thead th {\n",
       "        text-align: right;\n",
       "    }\n",
       "</style>\n",
       "<table border=\"1\" class=\"dataframe\">\n",
       "  <thead>\n",
       "    <tr style=\"text-align: right;\">\n",
       "      <th></th>\n",
       "      <th>County / City</th>\n",
       "      <th>Total</th>\n",
       "      <th>Household</th>\n",
       "      <th>Group Quarters</th>\n",
       "      <th>Total.1</th>\n",
       "      <th>Single Detached</th>\n",
       "      <th>Single Attached</th>\n",
       "      <th>Two to Four</th>\n",
       "      <th>Five Plus</th>\n",
       "      <th>Mobile Homes</th>\n",
       "      <th>Occupied</th>\n",
       "      <th>Vacancy Rate</th>\n",
       "      <th>Persons per Household</th>\n",
       "    </tr>\n",
       "  </thead>\n",
       "  <tbody>\n",
       "    <tr>\n",
       "      <th>19</th>\n",
       "      <td>Alameda County</td>\n",
       "      <td>1669301.0</td>\n",
       "      <td>1629480.0</td>\n",
       "      <td>39821.0</td>\n",
       "      <td>605977.0</td>\n",
       "      <td>318177.0</td>\n",
       "      <td>47620.0</td>\n",
       "      <td>66235.0</td>\n",
       "      <td>166086.0</td>\n",
       "      <td>7859.0</td>\n",
       "      <td>572918.0</td>\n",
       "      <td>0.054555</td>\n",
       "      <td>2.844177</td>\n",
       "    </tr>\n",
       "    <tr>\n",
       "      <th>95</th>\n",
       "      <td>Contra Costa County</td>\n",
       "      <td>1155879.0</td>\n",
       "      <td>1145404.0</td>\n",
       "      <td>10475.0</td>\n",
       "      <td>416062.0</td>\n",
       "      <td>277588.0</td>\n",
       "      <td>32009.0</td>\n",
       "      <td>28626.0</td>\n",
       "      <td>70556.0</td>\n",
       "      <td>7283.0</td>\n",
       "      <td>389644.0</td>\n",
       "      <td>0.063495</td>\n",
       "      <td>2.939617</td>\n",
       "    </tr>\n",
       "    <tr>\n",
       "      <th>361</th>\n",
       "      <td>Marin County</td>\n",
       "      <td>262879.0</td>\n",
       "      <td>254596.0</td>\n",
       "      <td>8283.0</td>\n",
       "      <td>112394.0</td>\n",
       "      <td>68750.0</td>\n",
       "      <td>11354.0</td>\n",
       "      <td>8308.0</td>\n",
       "      <td>21990.0</td>\n",
       "      <td>1992.0</td>\n",
       "      <td>104289.0</td>\n",
       "      <td>0.072112</td>\n",
       "      <td>2.441255</td>\n",
       "    </tr>\n",
       "    <tr>\n",
       "      <th>442</th>\n",
       "      <td>Napa County</td>\n",
       "      <td>140779.0</td>\n",
       "      <td>135918.0</td>\n",
       "      <td>4861.0</td>\n",
       "      <td>55180.0</td>\n",
       "      <td>37402.0</td>\n",
       "      <td>3016.0</td>\n",
       "      <td>4104.0</td>\n",
       "      <td>6857.0</td>\n",
       "      <td>3801.0</td>\n",
       "      <td>49581.0</td>\n",
       "      <td>0.101468</td>\n",
       "      <td>2.741332</td>\n",
       "    </tr>\n",
       "    <tr>\n",
       "      <th>641</th>\n",
       "      <td>San Francisco County</td>\n",
       "      <td>883869.0</td>\n",
       "      <td>858066.0</td>\n",
       "      <td>25803.0</td>\n",
       "      <td>399372.0</td>\n",
       "      <td>65860.0</td>\n",
       "      <td>59605.0</td>\n",
       "      <td>81520.0</td>\n",
       "      <td>191785.0</td>\n",
       "      <td>602.0</td>\n",
       "      <td>365197.0</td>\n",
       "      <td>0.085572</td>\n",
       "      <td>2.350000</td>\n",
       "    </tr>\n",
       "    <tr>\n",
       "      <th>699</th>\n",
       "      <td>San Mateo County</td>\n",
       "      <td>774485.0</td>\n",
       "      <td>765077.0</td>\n",
       "      <td>9408.0</td>\n",
       "      <td>279248.0</td>\n",
       "      <td>156554.0</td>\n",
       "      <td>25516.0</td>\n",
       "      <td>17704.0</td>\n",
       "      <td>76301.0</td>\n",
       "      <td>3173.0</td>\n",
       "      <td>266217.0</td>\n",
       "      <td>0.046665</td>\n",
       "      <td>2.873885</td>\n",
       "    </tr>\n",
       "    <tr>\n",
       "      <th>738</th>\n",
       "      <td>Santa Clara County</td>\n",
       "      <td>1954286.0</td>\n",
       "      <td>1924072.0</td>\n",
       "      <td>30214.0</td>\n",
       "      <td>671439.0</td>\n",
       "      <td>350878.0</td>\n",
       "      <td>65159.0</td>\n",
       "      <td>49226.0</td>\n",
       "      <td>187252.0</td>\n",
       "      <td>18924.0</td>\n",
       "      <td>641019.0</td>\n",
       "      <td>0.045306</td>\n",
       "      <td>3.001583</td>\n",
       "    </tr>\n",
       "    <tr>\n",
       "      <th>802</th>\n",
       "      <td>Solano County</td>\n",
       "      <td>441307.0</td>\n",
       "      <td>429845.0</td>\n",
       "      <td>11462.0</td>\n",
       "      <td>159586.0</td>\n",
       "      <td>114555.0</td>\n",
       "      <td>6798.0</td>\n",
       "      <td>11274.0</td>\n",
       "      <td>22346.0</td>\n",
       "      <td>4613.0</td>\n",
       "      <td>148301.0</td>\n",
       "      <td>0.070714</td>\n",
       "      <td>2.898463</td>\n",
       "    </tr>\n",
       "    <tr>\n",
       "      <th>819</th>\n",
       "      <td>Sonoma County</td>\n",
       "      <td>500675.0</td>\n",
       "      <td>490526.0</td>\n",
       "      <td>10149.0</td>\n",
       "      <td>204976.0</td>\n",
       "      <td>138077.0</td>\n",
       "      <td>14675.0</td>\n",
       "      <td>13852.0</td>\n",
       "      <td>26919.0</td>\n",
       "      <td>11453.0</td>\n",
       "      <td>186384.0</td>\n",
       "      <td>0.090703</td>\n",
       "      <td>2.631803</td>\n",
       "    </tr>\n",
       "  </tbody>\n",
       "</table>\n",
       "</div>"
      ],
      "text/plain": [
       "            County / City      Total  Household  Group Quarters   Total.1  \\\n",
       "19         Alameda County  1669301.0  1629480.0         39821.0  605977.0   \n",
       "95    Contra Costa County  1155879.0  1145404.0         10475.0  416062.0   \n",
       "361          Marin County   262879.0   254596.0          8283.0  112394.0   \n",
       "442           Napa County   140779.0   135918.0          4861.0   55180.0   \n",
       "641  San Francisco County   883869.0   858066.0         25803.0  399372.0   \n",
       "699      San Mateo County   774485.0   765077.0          9408.0  279248.0   \n",
       "738    Santa Clara County  1954286.0  1924072.0         30214.0  671439.0   \n",
       "802         Solano County   441307.0   429845.0         11462.0  159586.0   \n",
       "819         Sonoma County   500675.0   490526.0         10149.0  204976.0   \n",
       "\n",
       "     Single Detached  Single Attached  Two to Four  Five Plus  Mobile Homes  \\\n",
       "19          318177.0          47620.0      66235.0   166086.0        7859.0   \n",
       "95          277588.0          32009.0      28626.0    70556.0        7283.0   \n",
       "361          68750.0          11354.0       8308.0    21990.0        1992.0   \n",
       "442          37402.0           3016.0       4104.0     6857.0        3801.0   \n",
       "641          65860.0          59605.0      81520.0   191785.0         602.0   \n",
       "699         156554.0          25516.0      17704.0    76301.0        3173.0   \n",
       "738         350878.0          65159.0      49226.0   187252.0       18924.0   \n",
       "802         114555.0           6798.0      11274.0    22346.0        4613.0   \n",
       "819         138077.0          14675.0      13852.0    26919.0       11453.0   \n",
       "\n",
       "     Occupied  Vacancy Rate  Persons per Household  \n",
       "19   572918.0      0.054555               2.844177  \n",
       "95   389644.0      0.063495               2.939617  \n",
       "361  104289.0      0.072112               2.441255  \n",
       "442   49581.0      0.101468               2.741332  \n",
       "641  365197.0      0.085572               2.350000  \n",
       "699  266217.0      0.046665               2.873885  \n",
       "738  641019.0      0.045306               3.001583  \n",
       "802  148301.0      0.070714               2.898463  \n",
       "819  186384.0      0.090703               2.631803  "
      ]
     },
     "execution_count": 71,
     "metadata": {},
     "output_type": "execute_result"
    }
   ],
   "source": [
    "bay_area_housing_df"
   ]
  },
  {
   "cell_type": "code",
   "execution_count": 72,
   "metadata": {},
   "outputs": [
    {
     "data": {
      "text/plain": [
       "2904234.0"
      ]
     },
     "execution_count": 72,
     "metadata": {},
     "output_type": "execute_result"
    }
   ],
   "source": [
    "bay_area_housing_df['Total.1'].sum()"
   ]
  },
  {
   "cell_type": "code",
   "execution_count": 73,
   "metadata": {},
   "outputs": [
    {
     "data": {
      "text/plain": [
       "2723550.0"
      ]
     },
     "execution_count": 73,
     "metadata": {},
     "output_type": "execute_result"
    }
   ],
   "source": [
    "bay_area_housing_df['Occupied'].sum()"
   ]
  },
  {
   "cell_type": "code",
   "execution_count": 74,
   "metadata": {},
   "outputs": [
    {
     "data": {
      "text/plain": [
       "1.3377282959981875"
      ]
     },
     "execution_count": 74,
     "metadata": {},
     "output_type": "execute_result"
    }
   ],
   "source": [
    "3885076.0 / 2904234.0"
   ]
  },
  {
   "cell_type": "code",
   "execution_count": 75,
   "metadata": {},
   "outputs": [
    {
     "data": {
      "text/plain": [
       "1.426475005048558"
      ]
     },
     "execution_count": 75,
     "metadata": {},
     "output_type": "execute_result"
    }
   ],
   "source": [
    "3885076.0 / 2723550.0"
   ]
  },
  {
   "cell_type": "code",
   "execution_count": 95,
   "metadata": {},
   "outputs": [
    {
     "data": {
      "text/plain": [
       "1.897359854612266"
      ]
     },
     "execution_count": 95,
     "metadata": {},
     "output_type": "execute_result"
    }
   ],
   "source": [
    "5510377 / 2904234"
   ]
  },
  {
   "cell_type": "code",
   "execution_count": 96,
   "metadata": {},
   "outputs": [
    {
     "data": {
      "text/plain": [
       "2.023233280093995"
      ]
     },
     "execution_count": 96,
     "metadata": {},
     "output_type": "execute_result"
    }
   ],
   "source": [
    "5510377 / 2723550"
   ]
  },
  {
   "cell_type": "code",
   "execution_count": 97,
   "metadata": {},
   "outputs": [
    {
     "data": {
      "text/plain": [
       "1152980.898"
      ]
     },
     "execution_count": 97,
     "metadata": {},
     "output_type": "execute_result"
    }
   ],
   "source": [
    "(1.897 - 1.5) * 2904234"
   ]
  },
  {
   "cell_type": "code",
   "execution_count": null,
   "metadata": {},
   "outputs": [],
   "source": []
  }
 ],
 "metadata": {
  "kernelspec": {
   "display_name": "Python 3",
   "language": "python",
   "name": "python3"
  },
  "language_info": {
   "codemirror_mode": {
    "name": "ipython",
    "version": 3
   },
   "file_extension": ".py",
   "mimetype": "text/x-python",
   "name": "python",
   "nbconvert_exporter": "python",
   "pygments_lexer": "ipython3",
   "version": "3.8.1"
  }
 },
 "nbformat": 4,
 "nbformat_minor": 4
}
