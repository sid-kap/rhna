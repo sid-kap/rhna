{
 "cells": [
  {
   "cell_type": "code",
   "execution_count": 62,
   "metadata": {},
   "outputs": [],
   "source": [
    "import pandas as pd\n",
    "import us\n",
    "from pathlib import Path\n",
    "import itertools"
   ]
  },
  {
   "cell_type": "code",
   "execution_count": 181,
   "metadata": {},
   "outputs": [],
   "source": [
    "data = []\n",
    "for line in itertools.islice(Path('data/asec2019_pubuse.dat').open(), None):\n",
    "    if line[0] == '1':\n",
    "        cbsa = line[45:50]\n",
    "    if line[0] == '3':\n",
    "        weight = int(line[62: 62+8])\n",
    "        age = line[92:94]\n",
    "        householder_status = line[95:97]\n",
    "        hh_status_2 = line[97]\n",
    "        data.append((cbsa, weight, age, householder_status, hh_status_2))"
   ]
  },
  {
   "cell_type": "code",
   "execution_count": 340,
   "metadata": {},
   "outputs": [],
   "source": [
    "data_2018 = []\n",
    "for line in itertools.islice(Path('data/asec2018_pubuse.dat').open(), None):\n",
    "    if line[0] == '1':\n",
    "        cbsa = line[43: 43+5]\n",
    "        household_weight = int(line[286: 286 + 8])\n",
    "    if line[0] == '3':\n",
    "#         weight = int(line[138: 138 + 8])\n",
    "        weight = int(line[154: 154 + 8])\n",
    "        household_nbr = line[1:6]\n",
    "        age = line[43:45]\n",
    "        householder_status = line[40:42]\n",
    "        hh_status_2 = line[37]\n",
    "        data_2018.append((household_nbr, cbsa, household_weight, weight, age, householder_status, hh_status_2))"
   ]
  },
  {
   "cell_type": "code",
   "execution_count": 380,
   "metadata": {},
   "outputs": [],
   "source": [
    "data_2000 = []\n",
    "for line in itertools.islice(Path('data/mar00supp.dat').open(), None):\n",
    "    if line[0] == '1':\n",
    "        hh_weight = int(line[286:286+8])\n",
    "        cmsa = line[52:54]\n",
    "        msa = line[43:47]\n",
    "    if line[0] == '3':\n",
    "        # weight = int(line[232:240])\n",
    "        weight = int(line[65:65 + 8])\n",
    "        age = line[39:41]\n",
    "        householder_status = line[36:38]\n",
    "        data_2000.append((cmsa, msa, hh_weight, weight, age, householder_status))"
   ]
  },
  {
   "cell_type": "code",
   "execution_count": 332,
   "metadata": {},
   "outputs": [],
   "source": [
    "raw_df = pd.DataFrame(data, columns=['cbsa', 'weight', 'age', 'householder_status', 'hh_status_2'])"
   ]
  },
  {
   "cell_type": "code",
   "execution_count": 341,
   "metadata": {},
   "outputs": [],
   "source": [
    "df_2018 = pd.DataFrame(\n",
    "    data_2018, \n",
    "    columns=['household_nbr', 'cbsa', 'household_weight', 'weight', 'age', 'hh_status', 'hh_status_2']\n",
    ")"
   ]
  },
  {
   "cell_type": "code",
   "execution_count": 382,
   "metadata": {},
   "outputs": [],
   "source": [
    "df_2000 = pd.DataFrame(\n",
    "    data_2000, \n",
    "    columns=['cmsa', 'msa', 'household_weight', 'weight', 'age', 'hh_status']\n",
    ")"
   ]
  },
  {
   "cell_type": "markdown",
   "metadata": {},
   "source": [
    "# verify stuff"
   ]
  },
  {
   "cell_type": "code",
   "execution_count": 324,
   "metadata": {},
   "outputs": [
    {
     "data": {
      "text/plain": [
       "67909"
      ]
     },
     "execution_count": 324,
     "metadata": {},
     "output_type": "execute_result"
    }
   ],
   "source": [
    "df_2018['household_nbr'].nunique()"
   ]
  },
  {
   "cell_type": "code",
   "execution_count": 325,
   "metadata": {},
   "outputs": [
    {
     "data": {
      "text/plain": [
       "48428"
      ]
     },
     "execution_count": 325,
     "metadata": {},
     "output_type": "execute_result"
    }
   ],
   "source": [
    "df_2018['household_weight'].nunique()"
   ]
  },
  {
   "cell_type": "code",
   "execution_count": 342,
   "metadata": {},
   "outputs": [
    {
     "data": {
      "text/html": [
       "<div>\n",
       "<style scoped>\n",
       "    .dataframe tbody tr th:only-of-type {\n",
       "        vertical-align: middle;\n",
       "    }\n",
       "\n",
       "    .dataframe tbody tr th {\n",
       "        vertical-align: top;\n",
       "    }\n",
       "\n",
       "    .dataframe thead th {\n",
       "        text-align: right;\n",
       "    }\n",
       "</style>\n",
       "<table border=\"1\" class=\"dataframe\">\n",
       "  <thead>\n",
       "    <tr style=\"text-align: right;\">\n",
       "      <th></th>\n",
       "      <th>household_nbr</th>\n",
       "      <th>cbsa</th>\n",
       "      <th>household_weight</th>\n",
       "      <th>weight</th>\n",
       "      <th>age</th>\n",
       "      <th>hh_status</th>\n",
       "      <th>hh_status_2</th>\n",
       "    </tr>\n",
       "  </thead>\n",
       "  <tbody>\n",
       "    <tr>\n",
       "      <th>0</th>\n",
       "      <td>00002</td>\n",
       "      <td>00000</td>\n",
       "      <td>131602</td>\n",
       "      <td>131602</td>\n",
       "      <td>16</td>\n",
       "      <td>49</td>\n",
       "      <td>1</td>\n",
       "    </tr>\n",
       "    <tr>\n",
       "      <th>1</th>\n",
       "      <td>00004</td>\n",
       "      <td>00000</td>\n",
       "      <td>82429</td>\n",
       "      <td>82429</td>\n",
       "      <td>10</td>\n",
       "      <td>01</td>\n",
       "      <td>1</td>\n",
       "    </tr>\n",
       "    <tr>\n",
       "      <th>2</th>\n",
       "      <td>00004</td>\n",
       "      <td>00000</td>\n",
       "      <td>82429</td>\n",
       "      <td>82429</td>\n",
       "      <td>12</td>\n",
       "      <td>02</td>\n",
       "      <td>2</td>\n",
       "    </tr>\n",
       "    <tr>\n",
       "      <th>3</th>\n",
       "      <td>00004</td>\n",
       "      <td>00000</td>\n",
       "      <td>82429</td>\n",
       "      <td>73167</td>\n",
       "      <td>00</td>\n",
       "      <td>04</td>\n",
       "      <td>3</td>\n",
       "    </tr>\n",
       "    <tr>\n",
       "      <th>4</th>\n",
       "      <td>00004</td>\n",
       "      <td>00000</td>\n",
       "      <td>82429</td>\n",
       "      <td>110647</td>\n",
       "      <td>00</td>\n",
       "      <td>04</td>\n",
       "      <td>3</td>\n",
       "    </tr>\n",
       "    <tr>\n",
       "      <th>5</th>\n",
       "      <td>00004</td>\n",
       "      <td>00000</td>\n",
       "      <td>82429</td>\n",
       "      <td>117486</td>\n",
       "      <td>00</td>\n",
       "      <td>04</td>\n",
       "      <td>3</td>\n",
       "    </tr>\n",
       "    <tr>\n",
       "      <th>6</th>\n",
       "      <td>00009</td>\n",
       "      <td>00000</td>\n",
       "      <td>85300</td>\n",
       "      <td>85300</td>\n",
       "      <td>11</td>\n",
       "      <td>01</td>\n",
       "      <td>1</td>\n",
       "    </tr>\n",
       "    <tr>\n",
       "      <th>7</th>\n",
       "      <td>00009</td>\n",
       "      <td>00000</td>\n",
       "      <td>85300</td>\n",
       "      <td>85300</td>\n",
       "      <td>12</td>\n",
       "      <td>02</td>\n",
       "      <td>2</td>\n",
       "    </tr>\n",
       "    <tr>\n",
       "      <th>8</th>\n",
       "      <td>00009</td>\n",
       "      <td>00000</td>\n",
       "      <td>85300</td>\n",
       "      <td>94730</td>\n",
       "      <td>05</td>\n",
       "      <td>09</td>\n",
       "      <td>5</td>\n",
       "    </tr>\n",
       "    <tr>\n",
       "      <th>9</th>\n",
       "      <td>00009</td>\n",
       "      <td>00000</td>\n",
       "      <td>85300</td>\n",
       "      <td>94730</td>\n",
       "      <td>04</td>\n",
       "      <td>09</td>\n",
       "      <td>5</td>\n",
       "    </tr>\n",
       "    <tr>\n",
       "      <th>10</th>\n",
       "      <td>00009</td>\n",
       "      <td>00000</td>\n",
       "      <td>85300</td>\n",
       "      <td>82974</td>\n",
       "      <td>03</td>\n",
       "      <td>09</td>\n",
       "      <td>5</td>\n",
       "    </tr>\n",
       "    <tr>\n",
       "      <th>11</th>\n",
       "      <td>00009</td>\n",
       "      <td>00000</td>\n",
       "      <td>85300</td>\n",
       "      <td>87140</td>\n",
       "      <td>01</td>\n",
       "      <td>04</td>\n",
       "      <td>3</td>\n",
       "    </tr>\n",
       "    <tr>\n",
       "      <th>12</th>\n",
       "      <td>00009</td>\n",
       "      <td>00000</td>\n",
       "      <td>85300</td>\n",
       "      <td>63990</td>\n",
       "      <td>00</td>\n",
       "      <td>04</td>\n",
       "      <td>3</td>\n",
       "    </tr>\n",
       "    <tr>\n",
       "      <th>13</th>\n",
       "      <td>00009</td>\n",
       "      <td>00000</td>\n",
       "      <td>85300</td>\n",
       "      <td>72530</td>\n",
       "      <td>00</td>\n",
       "      <td>04</td>\n",
       "      <td>3</td>\n",
       "    </tr>\n",
       "    <tr>\n",
       "      <th>14</th>\n",
       "      <td>00009</td>\n",
       "      <td>00000</td>\n",
       "      <td>85300</td>\n",
       "      <td>60333</td>\n",
       "      <td>00</td>\n",
       "      <td>04</td>\n",
       "      <td>3</td>\n",
       "    </tr>\n",
       "    <tr>\n",
       "      <th>15</th>\n",
       "      <td>00012</td>\n",
       "      <td>00000</td>\n",
       "      <td>166379</td>\n",
       "      <td>166379</td>\n",
       "      <td>12</td>\n",
       "      <td>01</td>\n",
       "      <td>1</td>\n",
       "    </tr>\n",
       "    <tr>\n",
       "      <th>16</th>\n",
       "      <td>00012</td>\n",
       "      <td>00000</td>\n",
       "      <td>166379</td>\n",
       "      <td>166379</td>\n",
       "      <td>12</td>\n",
       "      <td>02</td>\n",
       "      <td>2</td>\n",
       "    </tr>\n",
       "    <tr>\n",
       "      <th>17</th>\n",
       "      <td>00014</td>\n",
       "      <td>00000</td>\n",
       "      <td>143807</td>\n",
       "      <td>143807</td>\n",
       "      <td>04</td>\n",
       "      <td>49</td>\n",
       "      <td>1</td>\n",
       "    </tr>\n",
       "    <tr>\n",
       "      <th>18</th>\n",
       "      <td>00015</td>\n",
       "      <td>00000</td>\n",
       "      <td>101940</td>\n",
       "      <td>101940</td>\n",
       "      <td>17</td>\n",
       "      <td>49</td>\n",
       "      <td>1</td>\n",
       "    </tr>\n",
       "    <tr>\n",
       "      <th>19</th>\n",
       "      <td>00016</td>\n",
       "      <td>00000</td>\n",
       "      <td>119734</td>\n",
       "      <td>119734</td>\n",
       "      <td>15</td>\n",
       "      <td>49</td>\n",
       "      <td>1</td>\n",
       "    </tr>\n",
       "    <tr>\n",
       "      <th>20</th>\n",
       "      <td>00017</td>\n",
       "      <td>00000</td>\n",
       "      <td>101940</td>\n",
       "      <td>101940</td>\n",
       "      <td>17</td>\n",
       "      <td>49</td>\n",
       "      <td>1</td>\n",
       "    </tr>\n",
       "    <tr>\n",
       "      <th>21</th>\n",
       "      <td>00019</td>\n",
       "      <td>00000</td>\n",
       "      <td>69498</td>\n",
       "      <td>69498</td>\n",
       "      <td>06</td>\n",
       "      <td>01</td>\n",
       "      <td>1</td>\n",
       "    </tr>\n",
       "    <tr>\n",
       "      <th>22</th>\n",
       "      <td>00019</td>\n",
       "      <td>00000</td>\n",
       "      <td>69498</td>\n",
       "      <td>69498</td>\n",
       "      <td>07</td>\n",
       "      <td>02</td>\n",
       "      <td>2</td>\n",
       "    </tr>\n",
       "    <tr>\n",
       "      <th>23</th>\n",
       "      <td>00019</td>\n",
       "      <td>00000</td>\n",
       "      <td>69498</td>\n",
       "      <td>63926</td>\n",
       "      <td>00</td>\n",
       "      <td>04</td>\n",
       "      <td>3</td>\n",
       "    </tr>\n",
       "    <tr>\n",
       "      <th>24</th>\n",
       "      <td>00019</td>\n",
       "      <td>00000</td>\n",
       "      <td>69498</td>\n",
       "      <td>64519</td>\n",
       "      <td>00</td>\n",
       "      <td>04</td>\n",
       "      <td>3</td>\n",
       "    </tr>\n",
       "    <tr>\n",
       "      <th>25</th>\n",
       "      <td>00020</td>\n",
       "      <td>00000</td>\n",
       "      <td>87842</td>\n",
       "      <td>87842</td>\n",
       "      <td>09</td>\n",
       "      <td>01</td>\n",
       "      <td>1</td>\n",
       "    </tr>\n",
       "    <tr>\n",
       "      <th>26</th>\n",
       "      <td>00020</td>\n",
       "      <td>00000</td>\n",
       "      <td>87842</td>\n",
       "      <td>66651</td>\n",
       "      <td>02</td>\n",
       "      <td>04</td>\n",
       "      <td>3</td>\n",
       "    </tr>\n",
       "    <tr>\n",
       "      <th>27</th>\n",
       "      <td>00020</td>\n",
       "      <td>00000</td>\n",
       "      <td>87842</td>\n",
       "      <td>64914</td>\n",
       "      <td>00</td>\n",
       "      <td>04</td>\n",
       "      <td>3</td>\n",
       "    </tr>\n",
       "    <tr>\n",
       "      <th>28</th>\n",
       "      <td>00020</td>\n",
       "      <td>00000</td>\n",
       "      <td>87842</td>\n",
       "      <td>87842</td>\n",
       "      <td>10</td>\n",
       "      <td>46</td>\n",
       "      <td>7</td>\n",
       "    </tr>\n",
       "    <tr>\n",
       "      <th>29</th>\n",
       "      <td>00020</td>\n",
       "      <td>00000</td>\n",
       "      <td>87842</td>\n",
       "      <td>70737</td>\n",
       "      <td>01</td>\n",
       "      <td>48</td>\n",
       "      <td>7</td>\n",
       "    </tr>\n",
       "  </tbody>\n",
       "</table>\n",
       "</div>"
      ],
      "text/plain": [
       "   household_nbr   cbsa  household_weight  weight age hh_status hh_status_2\n",
       "0          00002  00000            131602  131602  16        49           1\n",
       "1          00004  00000             82429   82429  10        01           1\n",
       "2          00004  00000             82429   82429  12        02           2\n",
       "3          00004  00000             82429   73167  00        04           3\n",
       "4          00004  00000             82429  110647  00        04           3\n",
       "5          00004  00000             82429  117486  00        04           3\n",
       "6          00009  00000             85300   85300  11        01           1\n",
       "7          00009  00000             85300   85300  12        02           2\n",
       "8          00009  00000             85300   94730  05        09           5\n",
       "9          00009  00000             85300   94730  04        09           5\n",
       "10         00009  00000             85300   82974  03        09           5\n",
       "11         00009  00000             85300   87140  01        04           3\n",
       "12         00009  00000             85300   63990  00        04           3\n",
       "13         00009  00000             85300   72530  00        04           3\n",
       "14         00009  00000             85300   60333  00        04           3\n",
       "15         00012  00000            166379  166379  12        01           1\n",
       "16         00012  00000            166379  166379  12        02           2\n",
       "17         00014  00000            143807  143807  04        49           1\n",
       "18         00015  00000            101940  101940  17        49           1\n",
       "19         00016  00000            119734  119734  15        49           1\n",
       "20         00017  00000            101940  101940  17        49           1\n",
       "21         00019  00000             69498   69498  06        01           1\n",
       "22         00019  00000             69498   69498  07        02           2\n",
       "23         00019  00000             69498   63926  00        04           3\n",
       "24         00019  00000             69498   64519  00        04           3\n",
       "25         00020  00000             87842   87842  09        01           1\n",
       "26         00020  00000             87842   66651  02        04           3\n",
       "27         00020  00000             87842   64914  00        04           3\n",
       "28         00020  00000             87842   87842  10        46           7\n",
       "29         00020  00000             87842   70737  01        48           7"
      ]
     },
     "execution_count": 342,
     "metadata": {},
     "output_type": "execute_result"
    }
   ],
   "source": [
    "df_2018.head(30)"
   ]
  },
  {
   "cell_type": "markdown",
   "metadata": {},
   "source": [
    "# cbsas stuff"
   ]
  },
  {
   "cell_type": "code",
   "execution_count": 183,
   "metadata": {},
   "outputs": [],
   "source": [
    "cbsas = {\n",
    "    41860: 'San Francisco',\n",
    "    41940: 'San Jose',\n",
    "    19100: 'Dallas',\n",
    "    26420: 'Houston',\n",
    "    31080: 'Los Angeles',\n",
    "    40900: 'Sacramento',\n",
    "}"
   ]
  },
  {
   "cell_type": "code",
   "execution_count": 184,
   "metadata": {},
   "outputs": [
    {
     "data": {
      "text/plain": [
       "Los Angeles      6573\n",
       "Dallas           2907\n",
       "Houston          2687\n",
       "San Francisco    2016\n",
       "Sacramento       1086\n",
       "San Jose          788\n",
       "Name: cbsa, dtype: int64"
      ]
     },
     "execution_count": 184,
     "metadata": {},
     "output_type": "execute_result"
    }
   ],
   "source": [
    "raw_df['cbsa'].astype(int).map(cbsas).dropna().value_counts()"
   ]
  },
  {
   "cell_type": "code",
   "execution_count": 194,
   "metadata": {},
   "outputs": [
    {
     "data": {
      "text/plain": [
       "Los Angeles      6379\n",
       "Dallas           2991\n",
       "Houston          2927\n",
       "San Francisco    1979\n",
       "Sacramento       1026\n",
       "San Jose          817\n",
       "Name: cbsa, dtype: int64"
      ]
     },
     "execution_count": 194,
     "metadata": {},
     "output_type": "execute_result"
    }
   ],
   "source": [
    "df_2018['cbsa'].astype(int).map(cbsas).dropna().value_counts()"
   ]
  },
  {
   "cell_type": "code",
   "execution_count": 238,
   "metadata": {},
   "outputs": [],
   "source": [
    "cmsas = {\n",
    "    84: 'San Francisco',\n",
    "    31: 'Dallas',\n",
    "    42: 'Houston',\n",
    "    49: 'Los Angeles',\n",
    "    82: 'Sacramento',\n",
    "}"
   ]
  },
  {
   "cell_type": "code",
   "execution_count": 383,
   "metadata": {},
   "outputs": [],
   "source": [
    "msas = {\n",
    "    4480: 'Los Angeles-Long Beach',\n",
    "    5945: 'Orange County',\n",
    "    6780: 'Riverside-San Bernadino',\n",
    "    7360: 'San Francisco',\n",
    "    5775: 'Oakland',\n",
    "    7400: 'San Jose',\n",
    "    6920: 'Sacramento',\n",
    "    3360: 'Houston',\n",
    "    1920: 'Dallas',\n",
    "}"
   ]
  },
  {
   "cell_type": "code",
   "execution_count": 239,
   "metadata": {},
   "outputs": [
    {
     "data": {
      "text/plain": [
       "Los Angeles      7664\n",
       "San Francisco    2096\n",
       "Dallas           1807\n",
       "Houston          1701\n",
       "Sacramento        531\n",
       "Name: cmsa, dtype: int64"
      ]
     },
     "execution_count": 239,
     "metadata": {},
     "output_type": "execute_result"
    }
   ],
   "source": [
    "df_2000['cmsa'].astype(int).map(cmsas).dropna().value_counts()"
   ]
  },
  {
   "cell_type": "code",
   "execution_count": 195,
   "metadata": {},
   "outputs": [],
   "source": [
    "# raw_df['householder_status'].value_counts(normalize=True).sort_index()"
   ]
  },
  {
   "cell_type": "code",
   "execution_count": 187,
   "metadata": {},
   "outputs": [
    {
     "data": {
      "text/plain": [
       "0.37923720579008446"
      ]
     },
     "execution_count": 187,
     "metadata": {},
     "output_type": "execute_result"
    }
   ],
   "source": [
    "# 01 = family householder, 49 = nonfamily householder\n",
    "raw_df['householder_status'].isin(['01', '49']).mean()"
   ]
  },
  {
   "cell_type": "code",
   "execution_count": 189,
   "metadata": {},
   "outputs": [
    {
     "data": {
      "text/plain": [
       "0.0004108805614627348"
      ]
     },
     "execution_count": 189,
     "metadata": {},
     "output_type": "execute_result"
    }
   ],
   "source": [
    "# Group quarters... I assume it's small enough to ignore.\n",
    "(raw_df['householder_status'] == '51').mean()"
   ]
  },
  {
   "cell_type": "code",
   "execution_count": 196,
   "metadata": {},
   "outputs": [
    {
     "data": {
      "text/plain": [
       "0.37681859576642013"
      ]
     },
     "execution_count": 196,
     "metadata": {},
     "output_type": "execute_result"
    }
   ],
   "source": [
    "# 01 = family householder, 49 = nonfamily householder\n",
    "df_2018['hh_status'].isin(['01', '49']).mean()"
   ]
  },
  {
   "cell_type": "code",
   "execution_count": 186,
   "metadata": {},
   "outputs": [
    {
     "data": {
      "text/plain": [
       "1    0.379315\n",
       "2    0.191454\n",
       "3    0.232980\n",
       "4    0.000666\n",
       "5    0.076935\n",
       "6    0.069083\n",
       "7    0.049361\n",
       "8    0.000205\n",
       "Name: hh_status_2, dtype: float64"
      ]
     },
     "execution_count": 186,
     "metadata": {},
     "output_type": "execute_result"
    }
   ],
   "source": [
    "raw_df['hh_status_2'].value_counts(normalize=True).sort_index()"
   ]
  },
  {
   "cell_type": "code",
   "execution_count": 171,
   "metadata": {},
   "outputs": [],
   "source": [
    "ages = {\n",
    "    '00': 'Not in universe',\n",
    "    '01': '15 years',\n",
    "    '02': '16 and 17 years',\n",
    "    '03': '18 and 19 years',\n",
    "    '04': '20 and 21 years',\n",
    "    '05': '22 to 24 years',\n",
    "    '06': '25 to 29 years',\n",
    "    '07': '30 to 34 years',\n",
    "    '08': '35 to 39 years',\n",
    "    '09': '40 to 44 years',\n",
    "    '10': '45 to 49 years',\n",
    "    '11': '50 to 54 years',\n",
    "    '12': '55 to 59 years',\n",
    "    '13': '60 to 61 years',\n",
    "    '14': '62 to 64 years',\n",
    "    '15': '65 to 69 years',\n",
    "    '16': '70 to 74 years',\n",
    "    '17': '75 years and over',\n",
    "}"
   ]
  },
  {
   "cell_type": "code",
   "execution_count": 172,
   "metadata": {},
   "outputs": [],
   "source": [
    "age_groups = {\n",
    "    '00': 'Not in universe',\n",
    "    '01': '15-24 years',\n",
    "    '02': '15-24 years',\n",
    "    '03': '15-24 years',\n",
    "    '04': '15-24 years',\n",
    "    '05': '15-24 years',\n",
    "    '06': '25-34 years',\n",
    "    '07': '25-34 years',\n",
    "    '08': '35-44 years',\n",
    "    '09': '35-44 years',\n",
    "    '10': '45-54 years',\n",
    "    '11': '45-54 years',\n",
    "    '12': '55-64 years',\n",
    "    '13': '55-64 years',\n",
    "    '14': '55-64 years',\n",
    "    '15': '65-74 years',\n",
    "    '16': '65-74 years',\n",
    "    '17': '75+ years',\n",
    "}"
   ]
  },
  {
   "cell_type": "code",
   "execution_count": 278,
   "metadata": {},
   "outputs": [
    {
     "data": {
      "text/plain": [
       "age_group\n",
       "15-24 years     6,262,513.5\n",
       "25-34 years    21,098,267.3\n",
       "35-44 years    21,747,815.5\n",
       "45-54 years    22,421,899.6\n",
       "55-64 years    24,567,861.0\n",
       "65-74 years    19,261,839.4\n",
       "75+ years      14,557,908.4\n",
       "Name: weight, dtype: object"
      ]
     },
     "execution_count": 278,
     "metadata": {},
     "output_type": "execute_result"
    }
   ],
   "source": [
    "(\n",
    "    (raw_df\n",
    "    .assign(age_group=raw_df['age'].map(age_groups))\n",
    "    .query('hh_status_2 == \"1\"')\n",
    "    .groupby('age_group')['weight'].sum() / 100).apply('{:,.1f}'.format)\n",
    ")"
   ]
  },
  {
   "cell_type": "code",
   "execution_count": 312,
   "metadata": {},
   "outputs": [
    {
     "data": {
      "text/plain": [
       "180084"
      ]
     },
     "execution_count": 312,
     "metadata": {},
     "output_type": "execute_result"
    }
   ],
   "source": [
    "len(df_2018)"
   ]
  },
  {
   "cell_type": "markdown",
   "metadata": {},
   "source": [
    "Yay, that's exactly correct."
   ]
  },
  {
   "cell_type": "code",
   "execution_count": 352,
   "metadata": {},
   "outputs": [
    {
     "data": {
      "text/plain": [
       "'323,156,082.86'"
      ]
     },
     "execution_count": 352,
     "metadata": {},
     "output_type": "execute_result"
    }
   ],
   "source": [
    "'{:,.2f}'.format(df_2018['weight'].sum() / 100)"
   ]
  },
  {
   "cell_type": "code",
   "execution_count": 351,
   "metadata": {},
   "outputs": [
    {
     "data": {
      "text/plain": [
       "'315,192,033.63'"
      ]
     },
     "execution_count": 351,
     "metadata": {},
     "output_type": "execute_result"
    }
   ],
   "source": [
    "'{:,.2f}'.format(df_2018['household_weight'].sum() / 100)"
   ]
  },
  {
   "cell_type": "code",
   "execution_count": 348,
   "metadata": {},
   "outputs": [
    {
     "data": {
      "text/plain": [
       "127601563.86"
      ]
     },
     "execution_count": 348,
     "metadata": {},
     "output_type": "execute_result"
    }
   ],
   "source": [
    "df_2018.query('hh_status_2 == \"1\"')['weight'].sum() / 100"
   ]
  },
  {
   "cell_type": "code",
   "execution_count": 349,
   "metadata": {},
   "outputs": [
    {
     "data": {
      "text/plain": [
       "83087678.77"
      ]
     },
     "execution_count": 349,
     "metadata": {},
     "output_type": "execute_result"
    }
   ],
   "source": [
    "df_2018.query('hh_status == \"01\"')['weight'].sum() / 100"
   ]
  },
  {
   "cell_type": "code",
   "execution_count": 350,
   "metadata": {},
   "outputs": [
    {
     "data": {
      "text/plain": [
       "44498473.51"
      ]
     },
     "execution_count": 350,
     "metadata": {},
     "output_type": "execute_result"
    }
   ],
   "source": [
    "df_2018.query('hh_status == \"49\"')['weight'].sum() / 100"
   ]
  },
  {
   "cell_type": "code",
   "execution_count": 359,
   "metadata": {},
   "outputs": [
    {
     "data": {
      "text/plain": [
       "age_group\n",
       "15-24 years        16,270,291.6\n",
       "25-34 years        16,221,194.0\n",
       "35-44 years        17,847,453.5\n",
       "45-54 years        16,052,748.9\n",
       "55-64 years        15,488,912.3\n",
       "65-74 years        11,065,296.3\n",
       "75+ years           7,201,659.5\n",
       "Not in universe    27,454,007.8\n",
       "Name: weight, dtype: object"
      ]
     },
     "execution_count": 359,
     "metadata": {},
     "output_type": "execute_result"
    }
   ],
   "source": [
    "(\n",
    "    (df_2018\n",
    "    .assign(age_group=raw_df['age'].map(age_groups))\n",
    "#     .query('hh_status == \"01\" or hh_status == \"49\"')\n",
    "    .query('hh_status_2 == \"1\"')\n",
    "    .groupby('age_group')['weight'].sum() / 100).apply('{:,.1f}'.format)\n",
    ")"
   ]
  },
  {
   "cell_type": "code",
   "execution_count": 366,
   "metadata": {},
   "outputs": [
    {
     "data": {
      "text/plain": [
       "age_group\n",
       "15-24 years        13,279,629.7\n",
       "25-34 years        13,326,402.5\n",
       "35-44 years        14,480,964.2\n",
       "45-54 years        13,055,248.1\n",
       "55-64 years        12,961,148.4\n",
       "65-74 years         9,214,209.5\n",
       "75+ years           6,173,136.5\n",
       "Not in universe    22,214,708.4\n",
       "Name: weight, dtype: object"
      ]
     },
     "execution_count": 366,
     "metadata": {},
     "output_type": "execute_result"
    }
   ],
   "source": [
    "(\n",
    "    (df_2000\n",
    "    .assign(age_group=raw_df['age'].map(age_groups))\n",
    "    .query('hh_status == \"01\" or hh_status == \"49\"')\n",
    "    .groupby('age_group')['weight'].sum() / 100).apply('{:,.1f}'.format)\n",
    ")"
   ]
  },
  {
   "cell_type": "code",
   "execution_count": 367,
   "metadata": {},
   "outputs": [
    {
     "data": {
      "text/plain": [
       "age_label\n",
       "15 years              1,649,708.7\n",
       "16 and 17 years       3,224,833.3\n",
       "18 and 19 years       2,738,641.9\n",
       "20 and 21 years       2,359,142.4\n",
       "22 to 24 years        3,307,303.3\n",
       "25 to 29 years        6,138,019.6\n",
       "30 to 34 years        7,188,382.9\n",
       "35 to 39 years        7,444,257.0\n",
       "40 to 44 years        7,036,707.2\n",
       "45 to 49 years        6,748,165.9\n",
       "50 to 54 years        6,307,082.2\n",
       "55 to 59 years        6,619,226.5\n",
       "60 to 61 years        2,503,428.1\n",
       "62 to 64 years        3,838,493.8\n",
       "65 to 69 years        5,127,058.8\n",
       "70 to 74 years        4,087,150.7\n",
       "75 years and over     6,173,136.5\n",
       "Not in universe      22,214,708.4\n",
       "Name: weight, dtype: object"
      ]
     },
     "execution_count": 367,
     "metadata": {},
     "output_type": "execute_result"
    }
   ],
   "source": [
    "(\n",
    "    (df_2000\n",
    "    .assign(age_group=raw_df['age'].map(age_groups))\n",
    "    .assign(age_label=raw_df['age'].map(ages))\n",
    "    .query('hh_status == \"01\" or hh_status == \"49\"')\n",
    "    .groupby('age_label')['weight'].sum() / 100).apply('{:,.1f}'.format)\n",
    ")"
   ]
  },
  {
   "cell_type": "code",
   "execution_count": 254,
   "metadata": {},
   "outputs": [],
   "source": [
    "def get_householder_rates(df, hh_col, hh_values, weight_col):\n",
    "    df = df.copy()\n",
    "    df['age_group'] = df['age'].map(age_groups)\n",
    "    age_weights = df.groupby('age_group')[weight_col].sum()\n",
    "#     raw_df.groupby('hh_status_2')['weight'].sum().transform(lambda x: x / x.sum())\n",
    "\n",
    "    householder_rates = (\n",
    "        df[\n",
    "            df[hh_col].isin(hh_values)\n",
    "        ]\n",
    "         .groupby('age_group')[weight_col].sum() \n",
    "         / age_weights\n",
    "    )\n",
    "\n",
    "    # householder_rates.index = householder_rates.index.map(ages)\n",
    "    return householder_rates"
   ]
  },
  {
   "cell_type": "code",
   "execution_count": 255,
   "metadata": {},
   "outputs": [],
   "source": [
    "def make_df(year_df, col, hh_values, regions, region_key, weight_col='weight'):\n",
    "    rates_series = {}\n",
    "    for key, name in regions.items():\n",
    "        df = year_df[year_df[region_key] == str(key)]\n",
    "        rates_series[name] = get_householder_rates(df, col, hh_values, weight_col)\n",
    "\n",
    "    rates_series['Overall'] = get_householder_rates(year_df, col, hh_values, weight_col)\n",
    "    \n",
    "    return pd.DataFrame(rates_series).applymap('{:.1%}'.format)"
   ]
  },
  {
   "cell_type": "code",
   "execution_count": 268,
   "metadata": {},
   "outputs": [
    {
     "data": {
      "text/plain": [
       "'323,443,787'"
      ]
     },
     "execution_count": 268,
     "metadata": {},
     "output_type": "execute_result"
    }
   ],
   "source": [
    "'{:,.0f}'.format(raw_df['weight'].sum() / 100)"
   ]
  },
  {
   "cell_type": "code",
   "execution_count": 269,
   "metadata": {},
   "outputs": [
    {
     "data": {
      "text/plain": [
       "'299,499,388'"
      ]
     },
     "execution_count": 269,
     "metadata": {},
     "output_type": "execute_result"
    }
   ],
   "source": [
    "'{:,.0f}'.format(df_2018['weight'].sum() / 100)"
   ]
  },
  {
   "cell_type": "code",
   "execution_count": 270,
   "metadata": {},
   "outputs": [
    {
     "data": {
      "text/plain": [
       "'4,083,825,300'"
      ]
     },
     "execution_count": 270,
     "metadata": {},
     "output_type": "execute_result"
    }
   ],
   "source": [
    "'{:,.0f}'.format(df_2000['weight'].sum() / 100)"
   ]
  },
  {
   "cell_type": "code",
   "execution_count": 271,
   "metadata": {},
   "outputs": [
    {
     "data": {
      "text/plain": [
       "'269,550,178'"
      ]
     },
     "execution_count": 271,
     "metadata": {},
     "output_type": "execute_result"
    }
   ],
   "source": [
    "'{:,.0f}'.format(df_2000['household_weight'].sum() / 100)"
   ]
  },
  {
   "cell_type": "code",
   "execution_count": 378,
   "metadata": {},
   "outputs": [
    {
     "data": {
      "text/plain": [
       "274535.0"
      ]
     },
     "execution_count": 378,
     "metadata": {},
     "output_type": "execute_result"
    }
   ],
   "source": [
    "(0.07 * 1017000 \n",
    " + 0.055 * 935000 \n",
    " + 0.02 * 947000 \n",
    " + 0.02 * 1067000 \n",
    " + 0.03 * 1015000 \n",
    " + 0.06 * 764000\n",
    " + 0.07 * (357000 + 148000))"
   ]
  },
  {
   "cell_type": "code",
   "execution_count": 256,
   "metadata": {},
   "outputs": [
    {
     "data": {
      "text/html": [
       "<div>\n",
       "<style scoped>\n",
       "    .dataframe tbody tr th:only-of-type {\n",
       "        vertical-align: middle;\n",
       "    }\n",
       "\n",
       "    .dataframe tbody tr th {\n",
       "        vertical-align: top;\n",
       "    }\n",
       "\n",
       "    .dataframe thead th {\n",
       "        text-align: right;\n",
       "    }\n",
       "</style>\n",
       "<table border=\"1\" class=\"dataframe\">\n",
       "  <thead>\n",
       "    <tr style=\"text-align: right;\">\n",
       "      <th></th>\n",
       "      <th>San Francisco</th>\n",
       "      <th>San Jose</th>\n",
       "      <th>Dallas</th>\n",
       "      <th>Houston</th>\n",
       "      <th>Los Angeles</th>\n",
       "      <th>Sacramento</th>\n",
       "      <th>Overall</th>\n",
       "    </tr>\n",
       "    <tr>\n",
       "      <th>age_group</th>\n",
       "      <th></th>\n",
       "      <th></th>\n",
       "      <th></th>\n",
       "      <th></th>\n",
       "      <th></th>\n",
       "      <th></th>\n",
       "      <th></th>\n",
       "    </tr>\n",
       "  </thead>\n",
       "  <tbody>\n",
       "    <tr>\n",
       "      <th>15-24 years</th>\n",
       "      <td>8.5%</td>\n",
       "      <td>14.0%</td>\n",
       "      <td>16.8%</td>\n",
       "      <td>15.4%</td>\n",
       "      <td>12.1%</td>\n",
       "      <td>23.8%</td>\n",
       "      <td>14.9%</td>\n",
       "    </tr>\n",
       "    <tr>\n",
       "      <th>25-34 years</th>\n",
       "      <td>39.9%</td>\n",
       "      <td>41.1%</td>\n",
       "      <td>53.8%</td>\n",
       "      <td>46.3%</td>\n",
       "      <td>39.1%</td>\n",
       "      <td>46.1%</td>\n",
       "      <td>47.1%</td>\n",
       "    </tr>\n",
       "    <tr>\n",
       "      <th>35-44 years</th>\n",
       "      <td>49.3%</td>\n",
       "      <td>49.2%</td>\n",
       "      <td>48.1%</td>\n",
       "      <td>49.6%</td>\n",
       "      <td>53.6%</td>\n",
       "      <td>59.0%</td>\n",
       "      <td>53.3%</td>\n",
       "    </tr>\n",
       "    <tr>\n",
       "      <th>45-54 years</th>\n",
       "      <td>56.2%</td>\n",
       "      <td>45.5%</td>\n",
       "      <td>60.7%</td>\n",
       "      <td>58.1%</td>\n",
       "      <td>55.5%</td>\n",
       "      <td>52.5%</td>\n",
       "      <td>55.3%</td>\n",
       "    </tr>\n",
       "    <tr>\n",
       "      <th>55-64 years</th>\n",
       "      <td>60.3%</td>\n",
       "      <td>58.0%</td>\n",
       "      <td>53.2%</td>\n",
       "      <td>58.8%</td>\n",
       "      <td>50.1%</td>\n",
       "      <td>45.1%</td>\n",
       "      <td>58.1%</td>\n",
       "    </tr>\n",
       "    <tr>\n",
       "      <th>65-74 years</th>\n",
       "      <td>55.0%</td>\n",
       "      <td>50.8%</td>\n",
       "      <td>64.0%</td>\n",
       "      <td>64.1%</td>\n",
       "      <td>56.6%</td>\n",
       "      <td>48.7%</td>\n",
       "      <td>62.0%</td>\n",
       "    </tr>\n",
       "    <tr>\n",
       "      <th>75+ years</th>\n",
       "      <td>68.2%</td>\n",
       "      <td>58.7%</td>\n",
       "      <td>64.4%</td>\n",
       "      <td>66.6%</td>\n",
       "      <td>60.6%</td>\n",
       "      <td>65.1%</td>\n",
       "      <td>67.8%</td>\n",
       "    </tr>\n",
       "    <tr>\n",
       "      <th>Not in universe</th>\n",
       "      <td>nan%</td>\n",
       "      <td>nan%</td>\n",
       "      <td>nan%</td>\n",
       "      <td>nan%</td>\n",
       "      <td>nan%</td>\n",
       "      <td>nan%</td>\n",
       "      <td>nan%</td>\n",
       "    </tr>\n",
       "  </tbody>\n",
       "</table>\n",
       "</div>"
      ],
      "text/plain": [
       "                San Francisco San Jose Dallas Houston Los Angeles Sacramento  \\\n",
       "age_group                                                                      \n",
       "15-24 years              8.5%    14.0%  16.8%   15.4%       12.1%      23.8%   \n",
       "25-34 years             39.9%    41.1%  53.8%   46.3%       39.1%      46.1%   \n",
       "35-44 years             49.3%    49.2%  48.1%   49.6%       53.6%      59.0%   \n",
       "45-54 years             56.2%    45.5%  60.7%   58.1%       55.5%      52.5%   \n",
       "55-64 years             60.3%    58.0%  53.2%   58.8%       50.1%      45.1%   \n",
       "65-74 years             55.0%    50.8%  64.0%   64.1%       56.6%      48.7%   \n",
       "75+ years               68.2%    58.7%  64.4%   66.6%       60.6%      65.1%   \n",
       "Not in universe          nan%     nan%   nan%    nan%        nan%       nan%   \n",
       "\n",
       "                Overall  \n",
       "age_group                \n",
       "15-24 years       14.9%  \n",
       "25-34 years       47.1%  \n",
       "35-44 years       53.3%  \n",
       "45-54 years       55.3%  \n",
       "55-64 years       58.1%  \n",
       "65-74 years       62.0%  \n",
       "75+ years         67.8%  \n",
       "Not in universe    nan%  "
      ]
     },
     "execution_count": 256,
     "metadata": {},
     "output_type": "execute_result"
    }
   ],
   "source": [
    "make_df(raw_df, 'hh_status_2', ['1'], cbsas, 'cbsa')"
   ]
  },
  {
   "cell_type": "code",
   "execution_count": 371,
   "metadata": {},
   "outputs": [
    {
     "data": {
      "text/html": [
       "<div>\n",
       "<style scoped>\n",
       "    .dataframe tbody tr th:only-of-type {\n",
       "        vertical-align: middle;\n",
       "    }\n",
       "\n",
       "    .dataframe tbody tr th {\n",
       "        vertical-align: top;\n",
       "    }\n",
       "\n",
       "    .dataframe thead th {\n",
       "        text-align: right;\n",
       "    }\n",
       "</style>\n",
       "<table border=\"1\" class=\"dataframe\">\n",
       "  <thead>\n",
       "    <tr style=\"text-align: right;\">\n",
       "      <th></th>\n",
       "      <th>San Francisco</th>\n",
       "      <th>San Jose</th>\n",
       "      <th>Dallas</th>\n",
       "      <th>Houston</th>\n",
       "      <th>Los Angeles</th>\n",
       "      <th>Sacramento</th>\n",
       "      <th>Overall</th>\n",
       "    </tr>\n",
       "    <tr>\n",
       "      <th>age_group</th>\n",
       "      <th></th>\n",
       "      <th></th>\n",
       "      <th></th>\n",
       "      <th></th>\n",
       "      <th></th>\n",
       "      <th></th>\n",
       "      <th></th>\n",
       "    </tr>\n",
       "  </thead>\n",
       "  <tbody>\n",
       "    <tr>\n",
       "      <th>15-24 years</th>\n",
       "      <td>11.6%</td>\n",
       "      <td>14.4%</td>\n",
       "      <td>13.7%</td>\n",
       "      <td>12.0%</td>\n",
       "      <td>13.4%</td>\n",
       "      <td>15.2%</td>\n",
       "      <td>14.7%</td>\n",
       "    </tr>\n",
       "    <tr>\n",
       "      <th>25-34 years</th>\n",
       "      <td>38.5%</td>\n",
       "      <td>36.8%</td>\n",
       "      <td>52.0%</td>\n",
       "      <td>43.4%</td>\n",
       "      <td>37.6%</td>\n",
       "      <td>41.3%</td>\n",
       "      <td>45.2%</td>\n",
       "    </tr>\n",
       "    <tr>\n",
       "      <th>35-44 years</th>\n",
       "      <td>50.3%</td>\n",
       "      <td>50.6%</td>\n",
       "      <td>50.2%</td>\n",
       "      <td>49.5%</td>\n",
       "      <td>50.3%</td>\n",
       "      <td>58.5%</td>\n",
       "      <td>53.1%</td>\n",
       "    </tr>\n",
       "    <tr>\n",
       "      <th>45-54 years</th>\n",
       "      <td>51.9%</td>\n",
       "      <td>53.5%</td>\n",
       "      <td>53.6%</td>\n",
       "      <td>55.4%</td>\n",
       "      <td>47.0%</td>\n",
       "      <td>46.3%</td>\n",
       "      <td>54.3%</td>\n",
       "    </tr>\n",
       "    <tr>\n",
       "      <th>55-64 years</th>\n",
       "      <td>54.4%</td>\n",
       "      <td>56.5%</td>\n",
       "      <td>59.3%</td>\n",
       "      <td>56.2%</td>\n",
       "      <td>51.1%</td>\n",
       "      <td>57.8%</td>\n",
       "      <td>57.6%</td>\n",
       "    </tr>\n",
       "    <tr>\n",
       "      <th>65-74 years</th>\n",
       "      <td>57.4%</td>\n",
       "      <td>56.7%</td>\n",
       "      <td>62.5%</td>\n",
       "      <td>56.4%</td>\n",
       "      <td>57.0%</td>\n",
       "      <td>55.9%</td>\n",
       "      <td>62.6%</td>\n",
       "    </tr>\n",
       "    <tr>\n",
       "      <th>75+ years</th>\n",
       "      <td>64.4%</td>\n",
       "      <td>59.1%</td>\n",
       "      <td>58.8%</td>\n",
       "      <td>65.0%</td>\n",
       "      <td>58.9%</td>\n",
       "      <td>58.6%</td>\n",
       "      <td>67.4%</td>\n",
       "    </tr>\n",
       "    <tr>\n",
       "      <th>Not in universe</th>\n",
       "      <td>nan%</td>\n",
       "      <td>nan%</td>\n",
       "      <td>nan%</td>\n",
       "      <td>nan%</td>\n",
       "      <td>nan%</td>\n",
       "      <td>nan%</td>\n",
       "      <td>nan%</td>\n",
       "    </tr>\n",
       "  </tbody>\n",
       "</table>\n",
       "</div>"
      ],
      "text/plain": [
       "                San Francisco San Jose Dallas Houston Los Angeles Sacramento  \\\n",
       "age_group                                                                      \n",
       "15-24 years             11.6%    14.4%  13.7%   12.0%       13.4%      15.2%   \n",
       "25-34 years             38.5%    36.8%  52.0%   43.4%       37.6%      41.3%   \n",
       "35-44 years             50.3%    50.6%  50.2%   49.5%       50.3%      58.5%   \n",
       "45-54 years             51.9%    53.5%  53.6%   55.4%       47.0%      46.3%   \n",
       "55-64 years             54.4%    56.5%  59.3%   56.2%       51.1%      57.8%   \n",
       "65-74 years             57.4%    56.7%  62.5%   56.4%       57.0%      55.9%   \n",
       "75+ years               64.4%    59.1%  58.8%   65.0%       58.9%      58.6%   \n",
       "Not in universe          nan%     nan%   nan%    nan%        nan%       nan%   \n",
       "\n",
       "                Overall  \n",
       "age_group                \n",
       "15-24 years       14.7%  \n",
       "25-34 years       45.2%  \n",
       "35-44 years       53.1%  \n",
       "45-54 years       54.3%  \n",
       "55-64 years       57.6%  \n",
       "65-74 years       62.6%  \n",
       "75+ years         67.4%  \n",
       "Not in universe    nan%  "
      ]
     },
     "execution_count": 371,
     "metadata": {},
     "output_type": "execute_result"
    }
   ],
   "source": [
    "make_df(df_2018, 'hh_status_2', ['1'], cbsas, 'cbsa')"
   ]
  },
  {
   "cell_type": "code",
   "execution_count": 370,
   "metadata": {},
   "outputs": [
    {
     "data": {
      "text/html": [
       "<div>\n",
       "<style scoped>\n",
       "    .dataframe tbody tr th:only-of-type {\n",
       "        vertical-align: middle;\n",
       "    }\n",
       "\n",
       "    .dataframe tbody tr th {\n",
       "        vertical-align: top;\n",
       "    }\n",
       "\n",
       "    .dataframe thead th {\n",
       "        text-align: right;\n",
       "    }\n",
       "</style>\n",
       "<table border=\"1\" class=\"dataframe\">\n",
       "  <thead>\n",
       "    <tr style=\"text-align: right;\">\n",
       "      <th></th>\n",
       "      <th>San Francisco</th>\n",
       "      <th>Dallas</th>\n",
       "      <th>Houston</th>\n",
       "      <th>Los Angeles</th>\n",
       "      <th>Sacramento</th>\n",
       "      <th>Overall</th>\n",
       "    </tr>\n",
       "    <tr>\n",
       "      <th>age_group</th>\n",
       "      <th></th>\n",
       "      <th></th>\n",
       "      <th></th>\n",
       "      <th></th>\n",
       "      <th></th>\n",
       "      <th></th>\n",
       "    </tr>\n",
       "  </thead>\n",
       "  <tbody>\n",
       "    <tr>\n",
       "      <th>15-24 years</th>\n",
       "      <td>11.8%</td>\n",
       "      <td>19.0%</td>\n",
       "      <td>20.3%</td>\n",
       "      <td>13.4%</td>\n",
       "      <td>19.3%</td>\n",
       "      <td>15.2%</td>\n",
       "    </tr>\n",
       "    <tr>\n",
       "      <th>25-34 years</th>\n",
       "      <td>46.5%</td>\n",
       "      <td>54.7%</td>\n",
       "      <td>50.6%</td>\n",
       "      <td>45.1%</td>\n",
       "      <td>49.4%</td>\n",
       "      <td>49.3%</td>\n",
       "    </tr>\n",
       "    <tr>\n",
       "      <th>35-44 years</th>\n",
       "      <td>49.4%</td>\n",
       "      <td>53.7%</td>\n",
       "      <td>52.9%</td>\n",
       "      <td>52.1%</td>\n",
       "      <td>52.5%</td>\n",
       "      <td>53.5%</td>\n",
       "    </tr>\n",
       "    <tr>\n",
       "      <th>45-54 years</th>\n",
       "      <td>57.3%</td>\n",
       "      <td>57.9%</td>\n",
       "      <td>59.4%</td>\n",
       "      <td>58.4%</td>\n",
       "      <td>63.6%</td>\n",
       "      <td>57.1%</td>\n",
       "    </tr>\n",
       "    <tr>\n",
       "      <th>55-64 years</th>\n",
       "      <td>57.7%</td>\n",
       "      <td>59.2%</td>\n",
       "      <td>51.6%</td>\n",
       "      <td>54.7%</td>\n",
       "      <td>61.2%</td>\n",
       "      <td>58.1%</td>\n",
       "    </tr>\n",
       "    <tr>\n",
       "      <th>65-74 years</th>\n",
       "      <td>66.9%</td>\n",
       "      <td>61.4%</td>\n",
       "      <td>63.5%</td>\n",
       "      <td>59.2%</td>\n",
       "      <td>66.6%</td>\n",
       "      <td>63.6%</td>\n",
       "    </tr>\n",
       "    <tr>\n",
       "      <th>75+ years</th>\n",
       "      <td>65.5%</td>\n",
       "      <td>71.5%</td>\n",
       "      <td>60.4%</td>\n",
       "      <td>67.5%</td>\n",
       "      <td>68.9%</td>\n",
       "      <td>70.3%</td>\n",
       "    </tr>\n",
       "    <tr>\n",
       "      <th>Not in universe</th>\n",
       "      <td>nan%</td>\n",
       "      <td>nan%</td>\n",
       "      <td>nan%</td>\n",
       "      <td>nan%</td>\n",
       "      <td>nan%</td>\n",
       "      <td>nan%</td>\n",
       "    </tr>\n",
       "  </tbody>\n",
       "</table>\n",
       "</div>"
      ],
      "text/plain": [
       "                San Francisco Dallas Houston Los Angeles Sacramento Overall\n",
       "age_group                                                                  \n",
       "15-24 years             11.8%  19.0%   20.3%       13.4%      19.3%   15.2%\n",
       "25-34 years             46.5%  54.7%   50.6%       45.1%      49.4%   49.3%\n",
       "35-44 years             49.4%  53.7%   52.9%       52.1%      52.5%   53.5%\n",
       "45-54 years             57.3%  57.9%   59.4%       58.4%      63.6%   57.1%\n",
       "55-64 years             57.7%  59.2%   51.6%       54.7%      61.2%   58.1%\n",
       "65-74 years             66.9%  61.4%   63.5%       59.2%      66.6%   63.6%\n",
       "75+ years               65.5%  71.5%   60.4%       67.5%      68.9%   70.3%\n",
       "Not in universe          nan%   nan%    nan%        nan%       nan%    nan%"
      ]
     },
     "execution_count": 370,
     "metadata": {},
     "output_type": "execute_result"
    }
   ],
   "source": [
    "make_df(df_2000, 'hh_status', ['01', '49'], cmsas, 'cmsa')"
   ]
  },
  {
   "cell_type": "code",
   "execution_count": 384,
   "metadata": {},
   "outputs": [
    {
     "data": {
      "text/html": [
       "<div>\n",
       "<style scoped>\n",
       "    .dataframe tbody tr th:only-of-type {\n",
       "        vertical-align: middle;\n",
       "    }\n",
       "\n",
       "    .dataframe tbody tr th {\n",
       "        vertical-align: top;\n",
       "    }\n",
       "\n",
       "    .dataframe thead th {\n",
       "        text-align: right;\n",
       "    }\n",
       "</style>\n",
       "<table border=\"1\" class=\"dataframe\">\n",
       "  <thead>\n",
       "    <tr style=\"text-align: right;\">\n",
       "      <th></th>\n",
       "      <th>Los Angeles-Long Beach</th>\n",
       "      <th>Orange County</th>\n",
       "      <th>Riverside-San Bernadino</th>\n",
       "      <th>San Francisco</th>\n",
       "      <th>Oakland</th>\n",
       "      <th>San Jose</th>\n",
       "      <th>Sacramento</th>\n",
       "      <th>Houston</th>\n",
       "      <th>Dallas</th>\n",
       "      <th>Overall</th>\n",
       "    </tr>\n",
       "    <tr>\n",
       "      <th>age_group</th>\n",
       "      <th></th>\n",
       "      <th></th>\n",
       "      <th></th>\n",
       "      <th></th>\n",
       "      <th></th>\n",
       "      <th></th>\n",
       "      <th></th>\n",
       "      <th></th>\n",
       "      <th></th>\n",
       "      <th></th>\n",
       "    </tr>\n",
       "  </thead>\n",
       "  <tbody>\n",
       "    <tr>\n",
       "      <th>15-24 years</th>\n",
       "      <td>15.1%</td>\n",
       "      <td>12.9%</td>\n",
       "      <td>8.7%</td>\n",
       "      <td>7.4%</td>\n",
       "      <td>13.3%</td>\n",
       "      <td>9.2%</td>\n",
       "      <td>21.0%</td>\n",
       "      <td>18.0%</td>\n",
       "      <td>19.8%</td>\n",
       "      <td>15.2%</td>\n",
       "    </tr>\n",
       "    <tr>\n",
       "      <th>25-34 years</th>\n",
       "      <td>45.2%</td>\n",
       "      <td>42.6%</td>\n",
       "      <td>49.0%</td>\n",
       "      <td>46.6%</td>\n",
       "      <td>46.7%</td>\n",
       "      <td>47.7%</td>\n",
       "      <td>50.4%</td>\n",
       "      <td>49.9%</td>\n",
       "      <td>53.3%</td>\n",
       "      <td>49.3%</td>\n",
       "    </tr>\n",
       "    <tr>\n",
       "      <th>35-44 years</th>\n",
       "      <td>51.3%</td>\n",
       "      <td>51.4%</td>\n",
       "      <td>56.5%</td>\n",
       "      <td>47.1%</td>\n",
       "      <td>50.1%</td>\n",
       "      <td>52.5%</td>\n",
       "      <td>54.3%</td>\n",
       "      <td>54.7%</td>\n",
       "      <td>51.7%</td>\n",
       "      <td>53.5%</td>\n",
       "    </tr>\n",
       "    <tr>\n",
       "      <th>45-54 years</th>\n",
       "      <td>57.4%</td>\n",
       "      <td>56.9%</td>\n",
       "      <td>62.5%</td>\n",
       "      <td>58.1%</td>\n",
       "      <td>58.9%</td>\n",
       "      <td>53.0%</td>\n",
       "      <td>63.7%</td>\n",
       "      <td>59.9%</td>\n",
       "      <td>55.5%</td>\n",
       "      <td>57.1%</td>\n",
       "    </tr>\n",
       "    <tr>\n",
       "      <th>55-64 years</th>\n",
       "      <td>54.4%</td>\n",
       "      <td>58.0%</td>\n",
       "      <td>51.5%</td>\n",
       "      <td>58.5%</td>\n",
       "      <td>63.0%</td>\n",
       "      <td>52.5%</td>\n",
       "      <td>60.7%</td>\n",
       "      <td>53.5%</td>\n",
       "      <td>62.1%</td>\n",
       "      <td>58.1%</td>\n",
       "    </tr>\n",
       "    <tr>\n",
       "      <th>65-74 years</th>\n",
       "      <td>58.8%</td>\n",
       "      <td>68.3%</td>\n",
       "      <td>53.3%</td>\n",
       "      <td>71.6%</td>\n",
       "      <td>66.8%</td>\n",
       "      <td>58.2%</td>\n",
       "      <td>65.5%</td>\n",
       "      <td>59.8%</td>\n",
       "      <td>61.3%</td>\n",
       "      <td>63.6%</td>\n",
       "    </tr>\n",
       "    <tr>\n",
       "      <th>75+ years</th>\n",
       "      <td>63.9%</td>\n",
       "      <td>68.7%</td>\n",
       "      <td>73.5%</td>\n",
       "      <td>60.8%</td>\n",
       "      <td>74.1%</td>\n",
       "      <td>48.7%</td>\n",
       "      <td>69.2%</td>\n",
       "      <td>60.0%</td>\n",
       "      <td>67.6%</td>\n",
       "      <td>70.3%</td>\n",
       "    </tr>\n",
       "    <tr>\n",
       "      <th>Not in universe</th>\n",
       "      <td>nan%</td>\n",
       "      <td>nan%</td>\n",
       "      <td>nan%</td>\n",
       "      <td>nan%</td>\n",
       "      <td>nan%</td>\n",
       "      <td>nan%</td>\n",
       "      <td>nan%</td>\n",
       "      <td>nan%</td>\n",
       "      <td>nan%</td>\n",
       "      <td>nan%</td>\n",
       "    </tr>\n",
       "  </tbody>\n",
       "</table>\n",
       "</div>"
      ],
      "text/plain": [
       "                Los Angeles-Long Beach Orange County Riverside-San Bernadino  \\\n",
       "age_group                                                                      \n",
       "15-24 years                      15.1%         12.9%                    8.7%   \n",
       "25-34 years                      45.2%         42.6%                   49.0%   \n",
       "35-44 years                      51.3%         51.4%                   56.5%   \n",
       "45-54 years                      57.4%         56.9%                   62.5%   \n",
       "55-64 years                      54.4%         58.0%                   51.5%   \n",
       "65-74 years                      58.8%         68.3%                   53.3%   \n",
       "75+ years                        63.9%         68.7%                   73.5%   \n",
       "Not in universe                   nan%          nan%                    nan%   \n",
       "\n",
       "                San Francisco Oakland San Jose Sacramento Houston Dallas  \\\n",
       "age_group                                                                  \n",
       "15-24 years              7.4%   13.3%     9.2%      21.0%   18.0%  19.8%   \n",
       "25-34 years             46.6%   46.7%    47.7%      50.4%   49.9%  53.3%   \n",
       "35-44 years             47.1%   50.1%    52.5%      54.3%   54.7%  51.7%   \n",
       "45-54 years             58.1%   58.9%    53.0%      63.7%   59.9%  55.5%   \n",
       "55-64 years             58.5%   63.0%    52.5%      60.7%   53.5%  62.1%   \n",
       "65-74 years             71.6%   66.8%    58.2%      65.5%   59.8%  61.3%   \n",
       "75+ years               60.8%   74.1%    48.7%      69.2%   60.0%  67.6%   \n",
       "Not in universe          nan%    nan%     nan%       nan%    nan%   nan%   \n",
       "\n",
       "                Overall  \n",
       "age_group                \n",
       "15-24 years       15.2%  \n",
       "25-34 years       49.3%  \n",
       "35-44 years       53.5%  \n",
       "45-54 years       57.1%  \n",
       "55-64 years       58.1%  \n",
       "65-74 years       63.6%  \n",
       "75+ years         70.3%  \n",
       "Not in universe    nan%  "
      ]
     },
     "execution_count": 384,
     "metadata": {},
     "output_type": "execute_result"
    }
   ],
   "source": [
    "make_df(df_2000, 'hh_status', ['01', '49'], msas, 'msa')"
   ]
  },
  {
   "cell_type": "code",
   "execution_count": 379,
   "metadata": {},
   "outputs": [
    {
     "data": {
      "text/plain": [
       "0.8222222222222222"
      ]
     },
     "execution_count": 379,
     "metadata": {},
     "output_type": "execute_result"
    }
   ],
   "source": [
    "37/45"
   ]
  },
  {
   "cell_type": "code",
   "execution_count": null,
   "metadata": {},
   "outputs": [],
   "source": []
  }
 ],
 "metadata": {
  "kernelspec": {
   "display_name": "Python 3",
   "language": "python",
   "name": "python3"
  },
  "language_info": {
   "codemirror_mode": {
    "name": "ipython",
    "version": 3
   },
   "file_extension": ".py",
   "mimetype": "text/x-python",
   "name": "python",
   "nbconvert_exporter": "python",
   "pygments_lexer": "ipython3",
   "version": "3.8.1"
  }
 },
 "nbformat": 4,
 "nbformat_minor": 4
}
